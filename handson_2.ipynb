{
  "cells": [
    {
      "cell_type": "markdown",
      "metadata": {
        "id": "view-in-github",
        "colab_type": "text"
      },
      "source": [
        "<a href=\"https://colab.research.google.com/github/wooihaw/ai_with_python_2025/blob/main/handson_2.ipynb\" target=\"_parent\"><img src=\"https://colab.research.google.com/assets/colab-badge.svg\" alt=\"Open In Colab\"/></a>"
      ]
    },
    {
      "cell_type": "markdown",
      "metadata": {
        "id": "KlyAKlc2bHIY"
      },
      "source": [
        "## Hands-on 2\n",
        "#### Six stages of machine learning workflow.\n",
        "![image.png](data:image/png;base64,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)"
      ]
    },
    {
      "cell_type": "code",
      "execution_count": null,
      "metadata": {
        "id": "ypPWO-BlbHIZ"
      },
      "outputs": [],
      "source": [
        "# Initialization\n",
        "%matplotlib inline\n",
        "import warnings\n",
        "warnings.filterwarnings('ignore')"
      ]
    },
    {
      "cell_type": "code",
      "execution_count": null,
      "metadata": {
        "id": "jrrXjmRYbHIa",
        "tags": []
      },
      "outputs": [],
      "source": [
        "# Load the required libraries\n",
        "import numpy as np\n",
        "from pandas import read_csv\n",
        "from matplotlib import pyplot as plt\n",
        "from sklearn.neighbors import KNeighborsClassifier\n",
        "from sklearn.model_selection import train_test_split\n",
        "from sklearn.preprocessing import MinMaxScaler\n",
        "from sklearn.preprocessing import LabelEncoder"
      ]
    },
    {
      "cell_type": "markdown",
      "metadata": {
        "id": "ZgFw8A0CbHIb"
      },
      "source": [
        "### Stage 1 Problem statement\n",
        "- To predict the gender based on height and weight"
      ]
    },
    {
      "cell_type": "markdown",
      "metadata": {
        "id": "0hmOG47SbHIb"
      },
      "source": [
        "### Stage 2 Data collection\n",
        "- Collect the required data to solve the problem"
      ]
    },
    {
      "cell_type": "code",
      "execution_count": null,
      "metadata": {
        "id": "szYbozelbHIb",
        "tags": []
      },
      "outputs": [],
      "source": [
        "# load dataset\n",
        "df = read_csv(\"https://raw.githubusercontent.com/wooihaw/ai_with_python_2024/main/heights_weights_genders.csv\")\n",
        "\n",
        "# Check the data\n",
        "print(f\"Dimension of the data: {df.shape}\")\n",
        "\n",
        "# Select 5 data samples random and print them\n",
        "df.sample(5)"
      ]
    },
    {
      "cell_type": "code",
      "execution_count": null,
      "metadata": {
        "id": "4eaT1QfWbHIc"
      },
      "outputs": [],
      "source": [
        "# Exploratory data analysis\n",
        "mpos = df['Gender'] == 'Male'\n",
        "fpos = df['Gender'] == 'Female'\n",
        "plt.plot(df[mpos]['Height(cm)'], df[mpos]['Weight(kg)'], 'b*', alpha=0.1, label='Male')\n",
        "plt.plot(df[fpos]['Height(cm)'], df[fpos]['Weight(kg)'], 'ro', alpha=0.1, label='Female')\n",
        "plt.xlabel('Height')\n",
        "plt.ylabel('Weight')\n",
        "plt.legend(loc='best')\n",
        "plt.show()"
      ]
    },
    {
      "cell_type": "markdown",
      "metadata": {
        "id": "Sm1CqeoIbHIc"
      },
      "source": [
        "### Stage 3 Data preprocessing\n",
        "- Prepare the data in the appropriate format and structure"
      ]
    },
    {
      "cell_type": "code",
      "execution_count": null,
      "metadata": {
        "id": "jfkZp84FbHIc",
        "scrolled": true
      },
      "outputs": [],
      "source": [
        "# Seperate the dataset into features (X) and label (y)\n",
        "X = df.drop(columns=['Gender'])\n",
        "y = df['Gender']\n",
        "print(f'X dimension: {X.shape}')\n",
        "print(f'y dimension: {y.shape}')"
      ]
    },
    {
      "cell_type": "code",
      "execution_count": null,
      "metadata": {
        "id": "JLdFLXVxbHId"
      },
      "outputs": [],
      "source": [
        "# split into training and testing sets\n",
        "X_train, X_test, y_train, y_test = train_test_split(X, y, test_size=0.2, random_state=42)\n",
        "print(f'X_train dimension: {X_train.shape}')\n",
        "print(f'X_test dimension: {X_test.shape}')\n",
        "print(f'y_train dimension: {y_train.shape}')\n",
        "print(f'y_test dimension: {y_test.shape}')"
      ]
    },
    {
      "cell_type": "markdown",
      "metadata": {
        "id": "JJNfnn34bHId"
      },
      "source": [
        "### Stage 4 Modeling\n",
        "- Build the model to solve the problem"
      ]
    },
    {
      "cell_type": "code",
      "execution_count": null,
      "metadata": {
        "id": "MrXVvocAbHId"
      },
      "outputs": [],
      "source": [
        "# KNN classifier\n",
        "knn = KNeighborsClassifier().fit(X_train, y_train)"
      ]
    },
    {
      "cell_type": "markdown",
      "metadata": {
        "id": "xRCwaKHDbHId"
      },
      "source": [
        "### Stage 5 Evaluation\n",
        "- Evaluate the performe of the model"
      ]
    },
    {
      "cell_type": "code",
      "execution_count": null,
      "metadata": {
        "id": "bypMcFtCbHIe"
      },
      "outputs": [],
      "source": [
        "print(f'KNN accuracy: {knn.score(X_test, y_test):.2%}')"
      ]
    },
    {
      "cell_type": "markdown",
      "metadata": {
        "id": "i-7Ci81KbHIe"
      },
      "source": [
        "### Stage 6 Deployment\n",
        "- Deploy the model for problem solving"
      ]
    },
    {
      "cell_type": "code",
      "execution_count": null,
      "metadata": {
        "id": "qx4J8shVbHIe",
        "tags": []
      },
      "outputs": [],
      "source": [
        "# Make prediction based on user input\n",
        "try:\n",
        "    h = float(input('Please enter height (cm): '))\n",
        "    w = float(input('Please enter weight (kg): '))\n",
        "    assert 0 < h < 300 and 0 < w < 300, \"Value out of range\"\n",
        "except ValueError:\n",
        "    print(\"Invalid input! Please only enter number\")\n",
        "except AssertionError as e:\n",
        "    print(\"Error! \", e)\n",
        "else:\n",
        "    res1 = knn.predict([[h, w]])\n",
        "    print(f'kNN predicts: {res1}')"
      ]
    }
  ],
  "metadata": {
    "colab": {
      "provenance": [],
      "include_colab_link": true
    },
    "kernelspec": {
      "display_name": "Python 3 (ipykernel)",
      "language": "python",
      "name": "python3"
    },
    "language_info": {
      "codemirror_mode": {
        "name": "ipython",
        "version": 3
      },
      "file_extension": ".py",
      "mimetype": "text/x-python",
      "name": "python",
      "nbconvert_exporter": "python",
      "pygments_lexer": "ipython3",
      "version": "3.12.4"
    }
  },
  "nbformat": 4,
  "nbformat_minor": 0
}