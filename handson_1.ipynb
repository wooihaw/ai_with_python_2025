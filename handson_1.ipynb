{
 "cells": [
  {
   "cell_type": "markdown",
   "id": "b98e1f4a-fbec-441e-b775-3f906ef6c67b",
   "metadata": {},
   "source": [
    "## Hands-on 1\n",
    "#### This hands-on provides a quick introduction to Python"
   ]
  },
  {
   "cell_type": "markdown",
   "id": "b0936187-a333-4fc1-bce1-b28f4168312b",
   "metadata": {},
   "source": [
    "### Task 1\n",
    "Write a program to solve a classic puzzle: There are 35 heads and 94 legs among the chickens and rabbits in a farm. How many rabbits and how many chickens do we have?"
   ]
  },
  {
   "cell_type": "code",
   "execution_count": null,
   "id": "f5037a5d-3c28-4e5e-b51f-7351bad3eea8",
   "metadata": {},
   "outputs": [],
   "source": [
    "# Number of chicken -> c\n",
    "# Number of rabbit -> r\n",
    "# r + c = 35\n",
    "# 4r + 2c = 94\n",
    "\n",
    "for r in range(36): \n",
    "    c = 35 - r\n",
    "    if 4*r + 2*c == 94:\n",
    "        print(f\"There are {c} chickens and {r} rabbits in the farm.\")"
   ]
  },
  {
   "cell_type": "markdown",
   "id": "8896ae24-2596-4885-b535-dfbbb29d3ea6",
   "metadata": {},
   "source": [
    "### Task 2\n",
    "Write a program to track the growing amount of investment over time. An initial deposit, called the principal amount, is made. Each year, the amount increased by a fixed percentage, called the annual rate of the return. For example, a principal amount of RM100 with an annual rate of return of 5% increases the ﬁrst year by RM5. The second year, the increase is 5% of the new amount RM105, which is RM5.25, and the new amount becomes RM110.25. The program prompts the user to enter an initial amount, an annual rate (percentage) of return, and a number of years. It then prints out the amount of investment, rounded to 2 decimal places at the end of each year for the specified number of years."
   ]
  },
  {
   "cell_type": "code",
   "execution_count": null,
   "id": "b100444e-6193-4ba8-9cb1-3ac70cf7f802",
   "metadata": {},
   "outputs": [],
   "source": [
    "invest = float(input(\"Enter the initial investment: \"))\n",
    "rate = float(input(\"Enter the annual rate (%): \"))\n",
    "years = int(input(\"Enter the number of years to invest: \"))\n",
    "\n",
    "print(f\"Initial investment: RM{invest:.2f}, annual rate: {rate:.2f}%, investment years: {years}\")\n",
    "\n",
    "for y in range(years):\n",
    "    invest = invest + invest * rate/100\n",
    "    print(f\"Year {y+1:>2}: RM{invest:>10.2f}\")"
   ]
  },
  {
   "cell_type": "markdown",
   "id": "f7f72a0c-a740-43a4-824f-22b48021a562",
   "metadata": {},
   "source": [
    "### Task 3\n",
    "Write a program to read a set of temperature data (the monthly high temperatures in degree Celsius at Heathrow Airport for 1948 through 2016) from a file and then find some basic information: the highest and lowest temperatures, the mean (average) temperature, and the median temperature."
   ]
  },
  {
   "cell_type": "code",
   "execution_count": null,
   "id": "fc897173-328c-4be1-b9e8-8d90ec9a7999",
   "metadata": {},
   "outputs": [],
   "source": [
    "import pandas as pd\n",
    "df = pd.read_csv(\"https://raw.githubusercontent.com/wooihaw/datasets/main/Heathrow.txt\", header=None, names=['Temperature'])\n",
    "df"
   ]
  },
  {
   "cell_type": "code",
   "execution_count": null,
   "id": "0104792b-f4d7-42df-8418-9f12f6571e44",
   "metadata": {},
   "outputs": [],
   "source": [
    "df[\"Temperature\"].agg([\"min\", \"max\", \"mean\", \"median\"])"
   ]
  }
 ],
 "metadata": {
  "kernelspec": {
   "display_name": "Python 3 (ipykernel)",
   "language": "python",
   "name": "python3"
  },
  "language_info": {
   "codemirror_mode": {
    "name": "ipython",
    "version": 3
   },
   "file_extension": ".py",
   "mimetype": "text/x-python",
   "name": "python",
   "nbconvert_exporter": "python",
   "pygments_lexer": "ipython3",
   "version": "3.12.4"
  }
 },
 "nbformat": 4,
 "nbformat_minor": 5
}
